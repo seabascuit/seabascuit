{
 "cells": [
  {
   "cell_type": "code",
   "execution_count": 8,
   "id": "9fe56ebf-4a5a-4b0b-9cfe-4d9f82a33e36",
   "metadata": {},
   "outputs": [
    {
     "name": "stdout",
     "output_type": "stream",
     "text": [
      "[[4 9 3]\n",
      " [8 7 8]\n",
      " [4 5 8]\n",
      " [6 4 9]\n",
      " [4 9 5]\n",
      " [9 4 4]\n",
      " [3 1 6]\n",
      " [5 1 6]\n",
      " [1 4 6]\n",
      " [5 3 3]]\n"
     ]
    }
   ],
   "source": [
    "import numpy as np\n",
    "data = np.random.randint(1, 10, [10, 3])\n",
    "print(data)"
   ]
  },
  {
   "cell_type": "code",
   "execution_count": 14,
   "id": "843ebde0-0865-48c7-945e-e51059ef3e2c",
   "metadata": {},
   "outputs": [
    {
     "name": "stdout",
     "output_type": "stream",
     "text": [
      "0\n"
     ]
    }
   ],
   "source": [
    "axis = 0 % data.shape[1]\n",
    "print(axis)"
   ]
  },
  {
   "cell_type": "code",
   "execution_count": 18,
   "id": "d881b6ed-0c80-471d-868c-98b10ceede36",
   "metadata": {},
   "outputs": [
    {
     "data": {
      "text/plain": [
       "array([4, 8, 4, 6, 4, 9, 3, 5, 1, 5])"
      ]
     },
     "execution_count": 18,
     "metadata": {},
     "output_type": "execute_result"
    }
   ],
   "source": [
    "data[:, axis]"
   ]
  },
  {
   "cell_type": "code",
   "execution_count": 17,
   "id": "44e348ea-e1fe-4711-8580-8284acf0f645",
   "metadata": {},
   "outputs": [
    {
     "data": {
      "text/plain": [
       "array([8, 6, 0, 2, 4, 7, 9, 3, 1, 5], dtype=int64)"
      ]
     },
     "execution_count": 17,
     "metadata": {},
     "output_type": "execute_result"
    }
   ],
   "source": [
    "data[:, axis].argsort()"
   ]
  },
  {
   "cell_type": "code",
   "execution_count": 15,
   "id": "8b4d44ea-0c98-4fa2-8fcf-12dd0b5000da",
   "metadata": {},
   "outputs": [
    {
     "name": "stdout",
     "output_type": "stream",
     "text": [
      "[[1 4 6]\n",
      " [3 1 6]\n",
      " [4 9 3]\n",
      " [4 5 8]\n",
      " [4 9 5]\n",
      " [5 1 6]\n",
      " [5 3 3]\n",
      " [6 4 9]\n",
      " [8 7 8]\n",
      " [9 4 4]]\n"
     ]
    }
   ],
   "source": [
    "sorted_data = data[data[:, axis].argsort()]\n",
    "print(sorted_data)"
   ]
  },
  {
   "cell_type": "code",
   "execution_count": 20,
   "id": "2e22168a-d195-4803-8d09-b1d4674c1278",
   "metadata": {},
   "outputs": [
    {
     "name": "stdout",
     "output_type": "stream",
     "text": [
      "5\n"
     ]
    }
   ],
   "source": [
    "median = len(sorted_data) // 2\n",
    "print(median)"
   ]
  },
  {
   "cell_type": "code",
   "execution_count": 21,
   "id": "416863c8-cf92-477d-892b-97189f9b4368",
   "metadata": {},
   "outputs": [
    {
     "data": {
      "text/plain": [
       "array([5, 1, 6])"
      ]
     },
     "execution_count": 21,
     "metadata": {},
     "output_type": "execute_result"
    }
   ],
   "source": [
    "sorted_data[median]"
   ]
  },
  {
   "cell_type": "code",
   "execution_count": null,
   "id": "eeeaf899-7db0-4066-8219-f4d22f6506fe",
   "metadata": {},
   "outputs": [],
   "source": []
  }
 ],
 "metadata": {
  "kernelspec": {
   "display_name": "Python 3 (ipykernel)",
   "language": "python",
   "name": "python3"
  },
  "language_info": {
   "codemirror_mode": {
    "name": "ipython",
    "version": 3
   },
   "file_extension": ".py",
   "mimetype": "text/x-python",
   "name": "python",
   "nbconvert_exporter": "python",
   "pygments_lexer": "ipython3",
   "version": "3.11.3"
  }
 },
 "nbformat": 4,
 "nbformat_minor": 5
}
