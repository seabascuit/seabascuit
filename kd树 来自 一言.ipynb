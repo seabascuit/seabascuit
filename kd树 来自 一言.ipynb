{
 "cells": [
  {
   "cell_type": "code",
   "execution_count": 32,
   "id": "d7a8ee9b-e94b-46c7-9420-aa2c0f281f2c",
   "metadata": {},
   "outputs": [],
   "source": [
    "import numpy as np  \n",
    "  \n",
    "class Node:  \n",
    "    def __init__(self, point=None, split=None, left=None, right=None):  \n",
    "        self.point = point  \n",
    "        self.split = split  \n",
    "        self.left = left  \n",
    "        self.right = right  \n",
    "  \n",
    "  \n",
    "class KDTree:  \n",
    "    def __init__(self, data):  \n",
    "        self.data = data  \n",
    "        self.k = data.shape[1]  \n",
    "        self.root = self.build_tree(data, depth=0)  \n",
    "  \n",
    "    def build_tree(self, data, depth=0):  \n",
    "        if len(data) == 0:  \n",
    "            return None  \n",
    "  \n",
    "        axis = depth % self.k  \n",
    "        sorted_data = data[data[:, axis].argsort()]  \n",
    "        median = len(sorted_data) // 2  \n",
    "        print(f'axis={axis}, point={sorted_data[median]}')\n",
    "        print(f'left array = {sorted_data[:median]}  depth={depth + 1}')\n",
    "        print(f'right array = {sorted_data[median + 1:]}  depth={depth + 1}')\n",
    "        return Node(point=sorted_data[median],  \n",
    "                    split=axis,  \n",
    "                    left=self.build_tree(sorted_data[:median], depth + 1),  \n",
    "                    right=self.build_tree(sorted_data[median + 1:], depth + 1))  \n",
    "  \n",
    "    def query(self, point, tree=None):  \n",
    "        if tree is None:  \n",
    "            tree = self.root  \n",
    "        if tree is None:  \n",
    "            return None  \n",
    "  \n",
    "        if point[tree.split] < tree.point[tree.split]:  \n",
    "            next_branch = tree.left  \n",
    "            opposite_branch = tree.right  \n",
    "        else:  \n",
    "            next_branch = tree.right  \n",
    "            opposite_branch = tree.left  \n",
    "  \n",
    "        best = min((tree.point, self.query(point, next_branch)), key=lambda x: np.linalg.norm(point - x))  \n",
    "        if np.linalg.norm(point - best) > abs(point[tree.split] - tree.point[tree.split]):  \n",
    "            best = min((best, self.query(point, opposite_branch)), key=lambda x: np.linalg.norm(point - x))  \n",
    "  \n",
    "        return best  "
   ]
  },
  {
   "cell_type": "code",
   "execution_count": 35,
   "id": "0b4393aa-27b8-46fd-a0d7-86d505569757",
   "metadata": {},
   "outputs": [
    {
     "name": "stdout",
     "output_type": "stream",
     "text": [
      "[[2 3]\n",
      " [5 4]\n",
      " [9 6]\n",
      " [4 7]\n",
      " [8 1]\n",
      " [7 2]]\n",
      "axis=0, point=[7 2]\n",
      "left array = [[2 3]\n",
      " [4 7]\n",
      " [5 4]]  depth=1\n",
      "right array = [[8 1]\n",
      " [9 6]]  depth=1\n",
      "axis=1, point=[5 4]\n",
      "left array = [[2 3]]  depth=2\n",
      "right array = [[4 7]]  depth=2\n",
      "axis=0, point=[2 3]\n",
      "left array = []  depth=3\n",
      "right array = []  depth=3\n",
      "axis=0, point=[4 7]\n",
      "left array = []  depth=3\n",
      "right array = []  depth=3\n",
      "axis=1, point=[9 6]\n",
      "left array = [[8 1]]  depth=2\n",
      "right array = []  depth=2\n",
      "axis=0, point=[8 1]\n",
      "left array = []  depth=3\n",
      "right array = []  depth=3\n"
     ]
    }
   ],
   "source": [
    "# 使用范例：  \n",
    "# data = np.random.randint(1,10, [10,3])  # 创建一个10x3的随机数据集  \n",
    "data = np.array([[2,3],[5,4],[9,6],[4,7],[8,1],[7,2]])\n",
    "print(data)\n",
    "kdtree = KDTree(data)"
   ]
  },
  {
   "cell_type": "code",
   "execution_count": 36,
   "id": "0c301605-119c-49a9-b629-af9d7c9dde27",
   "metadata": {},
   "outputs": [
    {
     "name": "stdout",
     "output_type": "stream",
     "text": [
      "[[2 3]\n",
      " [4 7]\n",
      " [5 4]\n",
      " [7 2]\n",
      " [8 1]\n",
      " [9 6]]\n"
     ]
    }
   ],
   "source": [
    "sorted_data = data[data[:, 0].argsort()]\n",
    "print(sorted_data)"
   ]
  },
  {
   "cell_type": "raw",
   "id": "f9d36725-d3c0-4446-8254-54b577132440",
   "metadata": {},
   "source": [
    "https://www.cnblogs.com/ssyfj/p/13053055.html"
   ]
  },
  {
   "cell_type": "code",
   "execution_count": 21,
   "id": "ebd7375e-d109-4820-bece-e8bbb4ed0dab",
   "metadata": {},
   "outputs": [
    {
     "name": "stdout",
     "output_type": "stream",
     "text": [
      "[6 1 1] 0\n",
      "[5 5 1] 1\n",
      "[1 3 6] 2\n",
      "[4 8 9] 2\n",
      "[3 5 5] 0\n",
      "[3 9 8] 0\n",
      "[8 2 5] 1\n",
      "[9 1 9] 2\n"
     ]
    }
   ],
   "source": [
    "print(kdtree.root.point, kdtree.root.split)\n",
    "print(kdtree.root.left.point, kdtree.root.left.split)\n",
    "print(kdtree.root.left.left.point, kdtree.root.left.left.split)\n",
    "print(kdtree.root.left.right.point, kdtree.root.left.right.split)\n",
    "print(kdtree.root.left.left.left.point, kdtree.root.left.left.left.split)\n",
    "# print(kdtree.root.left.right.right.point, kdtree.root.left.right.right.split)\n",
    "print(kdtree.root.left.right.left.point, kdtree.root.left.right.left.split)\n",
    "\n",
    "print(kdtree.root.right.point, kdtree.root.right.split)\n",
    "print(kdtree.root.right.left.point, kdtree.root.right.left.split)\n"
   ]
  },
  {
   "cell_type": "code",
   "execution_count": 26,
   "id": "64b98534-9ae7-455f-9a28-02c92b66caca",
   "metadata": {},
   "outputs": [
    {
     "name": "stdout",
     "output_type": "stream",
     "text": [
      "[8 9 5]\n"
     ]
    }
   ],
   "source": [
    "query_point = np.random.randint(1,10,3)  # 创建一个随机查询点 \n",
    "print(query_point)\n",
    "# print(kdtree.query(query_point))  # 输出离查询点最近的点"
   ]
  },
  {
   "cell_type": "code",
   "execution_count": 27,
   "id": "7fde07f2-291a-4b6f-aac9-ea60e46209ff",
   "metadata": {},
   "outputs": [
    {
     "data": {
      "text/plain": [
       "8"
      ]
     },
     "execution_count": 27,
     "metadata": {},
     "output_type": "execute_result"
    }
   ],
   "source": [
    "# point[tree.split] < tree.point[tree.split]:\n",
    "query_point[kdtree.root.split]"
   ]
  },
  {
   "cell_type": "code",
   "execution_count": 28,
   "id": "36423390-3c66-48cf-801b-cd6188820021",
   "metadata": {},
   "outputs": [
    {
     "data": {
      "text/plain": [
       "6"
      ]
     },
     "execution_count": 28,
     "metadata": {},
     "output_type": "execute_result"
    }
   ],
   "source": [
    "kdtree.root.point[kdtree.root.split]"
   ]
  },
  {
   "cell_type": "code",
   "execution_count": null,
   "id": "87596f6c-030e-4fe7-a095-169a072f531e",
   "metadata": {},
   "outputs": [],
   "source": [
    "# next_branch = tree.right  \n",
    "# opposite_branch = tree.left  \n",
    "best = min((tree.point, self.query(point, next_branch)), key=lambda x: np.linalg.norm(point - x))  "
   ]
  }
 ],
 "metadata": {
  "kernelspec": {
   "display_name": "Python 3 (ipykernel)",
   "language": "python",
   "name": "python3"
  },
  "language_info": {
   "codemirror_mode": {
    "name": "ipython",
    "version": 3
   },
   "file_extension": ".py",
   "mimetype": "text/x-python",
   "name": "python",
   "nbconvert_exporter": "python",
   "pygments_lexer": "ipython3",
   "version": "3.11.3"
  }
 },
 "nbformat": 4,
 "nbformat_minor": 5
}
