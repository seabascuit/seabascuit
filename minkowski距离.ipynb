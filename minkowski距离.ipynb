{
 "cells": [
  {
   "cell_type": "markdown",
   "id": "58c40d47-6e7f-4b40-82a1-dab7bb504783",
   "metadata": {},
   "source": [
    "k值的选择，距离度量，分类决策规则"
   ]
  },
  {
   "cell_type": "code",
   "execution_count": 1,
   "id": "ff994bb5-3125-40fe-924e-9ce2fcf4dfba",
   "metadata": {},
   "outputs": [],
   "source": [
    "import numpy as np  \n",
    "# minkowski距离 \n",
    "def minkowski_distance(x, y, p):  \n",
    "    return np.power(np.sum(np.power(np.abs(x - y), p)), 1/p) "
   ]
  },
  {
   "cell_type": "code",
   "execution_count": 2,
   "id": "6f18d0fc-036e-4f91-92c0-0777ac4ca5b2",
   "metadata": {},
   "outputs": [],
   "source": [
    "x1, x2, x3 = np.array([1,1]).T, np.array([5,1]).T, np.array([4,4]).T"
   ]
  },
  {
   "cell_type": "code",
   "execution_count": 3,
   "id": "d9b56d5b-063a-4055-8f4b-d149864a666f",
   "metadata": {},
   "outputs": [
    {
     "name": "stdout",
     "output_type": "stream",
     "text": [
      "4.242640687119285 [1 1] [4 4]\n"
     ]
    }
   ],
   "source": [
    "dis_1 = minkowski_distance(x1, x3, 2)\n",
    "print(dis_1, x1, x3)"
   ]
  },
  {
   "cell_type": "code",
   "execution_count": 4,
   "id": "342ffbc8-ca11-4412-9e48-550cea3e3863",
   "metadata": {},
   "outputs": [
    {
     "name": "stdout",
     "output_type": "stream",
     "text": [
      "[3 3]\n"
     ]
    }
   ],
   "source": [
    "print(np.abs(x1 - x3))"
   ]
  },
  {
   "cell_type": "code",
   "execution_count": 6,
   "id": "f8a6f3e9-ce86-4a17-a9ff-b716489cef7e",
   "metadata": {},
   "outputs": [
    {
     "name": "stdout",
     "output_type": "stream",
     "text": [
      "[9 9]\n"
     ]
    }
   ],
   "source": [
    "print(np.power(np.abs(x1 - x3), 2))"
   ]
  },
  {
   "cell_type": "code",
   "execution_count": 7,
   "id": "98912b21-2234-4da9-abdf-9b8c46d56517",
   "metadata": {},
   "outputs": [
    {
     "name": "stdout",
     "output_type": "stream",
     "text": [
      "18\n"
     ]
    }
   ],
   "source": [
    "print(np.sum(np.power(np.abs(x1 - x3), 2)))"
   ]
  },
  {
   "cell_type": "code",
   "execution_count": 9,
   "id": "0fb23451-786f-4c7c-aafe-dfe0a26f66de",
   "metadata": {},
   "outputs": [
    {
     "name": "stdout",
     "output_type": "stream",
     "text": [
      "3.7797631496846193 [1 1] [4 4]\n"
     ]
    }
   ],
   "source": [
    "dis_2 = minkowski_distance(x1, x3, 3)\n",
    "print(dis_2, x1, x3)"
   ]
  },
  {
   "cell_type": "code",
   "execution_count": null,
   "id": "3cfbcd16-af62-43ea-87e5-359a9200089c",
   "metadata": {},
   "outputs": [],
   "source": []
  }
 ],
 "metadata": {
  "kernelspec": {
   "display_name": "Python 3 (ipykernel)",
   "language": "python",
   "name": "python3"
  },
  "language_info": {
   "codemirror_mode": {
    "name": "ipython",
    "version": 3
   },
   "file_extension": ".py",
   "mimetype": "text/x-python",
   "name": "python",
   "nbconvert_exporter": "python",
   "pygments_lexer": "ipython3",
   "version": "3.11.3"
  }
 },
 "nbformat": 4,
 "nbformat_minor": 5
}
